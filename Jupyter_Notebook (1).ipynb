{
  "metadata": {
    "kernelspec": {
      "name": "python",
      "display_name": "Python (Pyodide)",
      "language": "python"
    },
    "language_info": {
      "codemirror_mode": {
        "name": "python",
        "version": 3
      },
      "file_extension": ".py",
      "mimetype": "text/x-python",
      "name": "python",
      "nbconvert_exporter": "python",
      "pygments_lexer": "ipython3",
      "version": "3.8"
    }
  },
  "nbformat_minor": 4,
  "nbformat": 4,
  "cells": [
    {
      "cell_type": "markdown",
      "source": "<center>\n    <img src=\"https://s3-api.us-geo.objectstorage.softlayer.net/cf-courses-data/CognitiveClass/Logos/organization_logo/organization_logo.png\" width=\"300\" alt=\"cognitiveclass.ai logo\"  />\n</center>\n",
      "metadata": {}
    },
    {
      "cell_type": "markdown",
      "source": "#### Add your code below following the instructions given in the course\n",
      "metadata": {}
    },
    {
      "cell_type": "markdown",
      "source": "<h1>My Jupyter Notebook on IBM Watson Studio</h1>",
      "metadata": {}
    },
    {
      "cell_type": "markdown",
      "source": "<b> Hadley </b> <br>\nProduct Marketing Manager for AI and Analytics",
      "metadata": {}
    },
    {
      "cell_type": "markdown",
      "source": "<i> I am interested in data science because I find the math behind data science to be fascinating. I am also trained in linguistics and have a background in computational mathematics, so it is wonderful for there to be career and intellectual opportunities for someone like me in data science. </i>",
      "metadata": {}
    },
    {
      "cell_type": "markdown",
      "source": "<h3> My code is simply supposed to print out \"Hello World\" </h3>",
      "metadata": {}
    },
    {
      "cell_type": "code",
      "source": "print(\"Hello World\")",
      "metadata": {
        "trusted": true
      },
      "execution_count": 2,
      "outputs": [
        {
          "name": "stdout",
          "text": "Hello World\n",
          "output_type": "stream"
        }
      ]
    },
    {
      "cell_type": "markdown",
      "source": "1. List\n2. List 2\n3. List 3\n\n- Bullet 1\n- Bullet 2\n- Bullet 3\n\n| Heading 1 | Heading 2 | Heading 3 |  \n|-----------|:-----------:|-----------:|  \n| 1 | 2 | 3 |  \n| 1 | 2 | 3 |  ",
      "metadata": {}
    },
    {
      "cell_type": "markdown",
      "source": "",
      "metadata": {}
    }
  ]
}